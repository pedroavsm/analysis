{
 "cells": [
  {
   "cell_type": "markdown",
   "metadata": {},
   "source": [
    "# **Demand Estimation Exercise**"
   ]
  },
  {
   "cell_type": "markdown",
   "metadata": {},
   "source": [
    "### Presentation"
   ]
  },
  {
   "cell_type": "markdown",
   "metadata": {},
   "source": [
    "This exemple is based on the 12th edition of the book **Managerial Economics - Foundations of Business Analysis and Strategy** by Thomas and Maurice (2016).\n",
    "\n",
    "The data is in the directory, in the file `Data for Checkers Pizza.xlsx`.\n",
    "\n",
    "In this exercise, the Chechers Pizza wants to set its price. Therefore, is useful estimate the demand for this market. \n",
    "<br>The manager estimates the following linear specification of demand using the 24 monthly observations she collected:"
   ]
  },
  {
   "cell_type": "markdown",
   "metadata": {},
   "source": [
    "---\n",
    "#### Model"
   ]
  },
  {
   "cell_type": "markdown",
   "metadata": {},
   "source": [
    "$$ \n",
    "Q = a + bP + cM + dP_{Al} + eP_{BMac} \n",
    "$$\n",
    "\n",
    "Where\n",
    "\n",
    "$Q =$ sales of pizza at Checkers Pizza\n",
    "\n",
    "$P = $ price of a pizza at Checkers Pizza\n",
    "\n",
    "$M = $ average annual household income in Westbury\n",
    "\n",
    "$P_{Al} = $ price of a pizza at Al's Pizza Oven\n",
    "\n",
    "$P_{BMac} = $ price of a Big Mac at McDonald's"
   ]
  },
  {
   "cell_type": "code",
   "execution_count": 1,
   "metadata": {},
   "outputs": [],
   "source": [
    "import pandas as pd\n",
    "from statsmodels.formula.api import ols"
   ]
  },
  {
   "cell_type": "markdown",
   "metadata": {},
   "source": [
    "---\n",
    "### Data"
   ]
  },
  {
   "cell_type": "code",
   "execution_count": 2,
   "metadata": {},
   "outputs": [
    {
     "data": {
      "text/html": [
       "<div>\n",
       "<style scoped>\n",
       "    .dataframe tbody tr th:only-of-type {\n",
       "        vertical-align: middle;\n",
       "    }\n",
       "\n",
       "    .dataframe tbody tr th {\n",
       "        vertical-align: top;\n",
       "    }\n",
       "\n",
       "    .dataframe thead th {\n",
       "        text-align: right;\n",
       "    }\n",
       "</style>\n",
       "<table border=\"1\" class=\"dataframe\">\n",
       "  <thead>\n",
       "    <tr style=\"text-align: right;\">\n",
       "      <th></th>\n",
       "      <th>Observation</th>\n",
       "      <th>Q</th>\n",
       "      <th>P</th>\n",
       "      <th>M</th>\n",
       "      <th>P_Al</th>\n",
       "      <th>P_BMac</th>\n",
       "    </tr>\n",
       "  </thead>\n",
       "  <tbody>\n",
       "    <tr>\n",
       "      <th>0</th>\n",
       "      <td>1</td>\n",
       "      <td>2659</td>\n",
       "      <td>8.65</td>\n",
       "      <td>25500</td>\n",
       "      <td>10.55</td>\n",
       "      <td>1.25</td>\n",
       "    </tr>\n",
       "    <tr>\n",
       "      <th>1</th>\n",
       "      <td>2</td>\n",
       "      <td>2870</td>\n",
       "      <td>8.65</td>\n",
       "      <td>25600</td>\n",
       "      <td>10.45</td>\n",
       "      <td>1.35</td>\n",
       "    </tr>\n",
       "    <tr>\n",
       "      <th>2</th>\n",
       "      <td>3</td>\n",
       "      <td>2875</td>\n",
       "      <td>8.65</td>\n",
       "      <td>25700</td>\n",
       "      <td>10.35</td>\n",
       "      <td>1.55</td>\n",
       "    </tr>\n",
       "    <tr>\n",
       "      <th>3</th>\n",
       "      <td>4</td>\n",
       "      <td>2849</td>\n",
       "      <td>8.65</td>\n",
       "      <td>25970</td>\n",
       "      <td>10.30</td>\n",
       "      <td>1.05</td>\n",
       "    </tr>\n",
       "    <tr>\n",
       "      <th>4</th>\n",
       "      <td>5</td>\n",
       "      <td>2842</td>\n",
       "      <td>8.65</td>\n",
       "      <td>25970</td>\n",
       "      <td>10.30</td>\n",
       "      <td>0.95</td>\n",
       "    </tr>\n",
       "  </tbody>\n",
       "</table>\n",
       "</div>"
      ],
      "text/plain": [
       "   Observation     Q     P      M   P_Al  P_BMac\n",
       "0            1  2659  8.65  25500  10.55    1.25\n",
       "1            2  2870  8.65  25600  10.45    1.35\n",
       "2            3  2875  8.65  25700  10.35    1.55\n",
       "3            4  2849  8.65  25970  10.30    1.05\n",
       "4            5  2842  8.65  25970  10.30    0.95"
      ]
     },
     "execution_count": 2,
     "metadata": {},
     "output_type": "execute_result"
    }
   ],
   "source": [
    "data_market = pd.read_excel('Data for Checkers Pizza.xlsx')\n",
    "data_market.head()"
   ]
  },
  {
   "cell_type": "markdown",
   "metadata": {},
   "source": [
    "---\n",
    "### Regression"
   ]
  },
  {
   "cell_type": "markdown",
   "metadata": {},
   "source": [
    "We can avoid the `family` especification, because the *defaut* is the Gaussian family."
   ]
  },
  {
   "cell_type": "code",
   "execution_count": 3,
   "metadata": {},
   "outputs": [
    {
     "name": "stdout",
     "output_type": "stream",
     "text": [
      "                            OLS Regression Results                            \n",
      "==============================================================================\n",
      "Dep. Variable:                      Q   R-squared:                       0.955\n",
      "Model:                            OLS   Adj. R-squared:                  0.946\n",
      "Method:                 Least Squares   F-statistic:                     101.9\n",
      "Date:                Thu, 14 Dec 2023   Prob (F-statistic):           1.47e-12\n",
      "Time:                        16:44:42   Log-Likelihood:                -121.19\n",
      "No. Observations:                  24   AIC:                             252.4\n",
      "Df Residuals:                      19   BIC:                             258.3\n",
      "Df Model:                           4                                         \n",
      "Covariance Type:            nonrobust                                         \n",
      "==============================================================================\n",
      "                 coef    std err          t      P>|t|      [0.025      0.975]\n",
      "------------------------------------------------------------------------------\n",
      "Intercept   1183.8025    506.298      2.338      0.030     124.109    2243.496\n",
      "P           -213.4219     13.486    -15.825      0.000    -241.649    -185.195\n",
      "M              0.0911      0.012      7.340      0.000       0.065       0.117\n",
      "P_Al         101.3029     38.748      2.614      0.017      20.203     182.403\n",
      "P_BMac        71.8448     27.100      2.651      0.016      15.124     128.565\n",
      "==============================================================================\n",
      "Omnibus:                       40.982   Durbin-Watson:                   1.369\n",
      "Prob(Omnibus):                  0.000   Jarque-Bera (JB):              149.369\n",
      "Skew:                          -3.007   Prob(JB):                     3.67e-33\n",
      "Kurtosis:                      13.639   Cond. No.                     1.56e+06\n",
      "==============================================================================\n",
      "\n",
      "Notes:\n",
      "[1] Standard Errors assume that the covariance matrix of the errors is correctly specified.\n",
      "[2] The condition number is large, 1.56e+06. This might indicate that there are\n",
      "strong multicollinearity or other numerical problems.\n"
     ]
    }
   ],
   "source": [
    "model_formula = 'Q ~ P + M + P_Al + P_BMac'\n",
    "\n",
    "model_fit = ols(formula=model_formula,\n",
    "                data=data_market).fit()\n",
    "\n",
    "print(model_fit.summary())"
   ]
  },
  {
   "cell_type": "markdown",
   "metadata": {},
   "source": [
    "#### Confidence intervals"
   ]
  },
  {
   "cell_type": "code",
   "execution_count": 4,
   "metadata": {},
   "outputs": [
    {
     "name": "stdout",
     "output_type": "stream",
     "text": [
      "                    0            1\n",
      "Intercept  124.108581  2243.496392\n",
      "P         -241.649087  -185.194716\n",
      "M            0.065114     0.117063\n",
      "P_Al        20.202862   182.402851\n",
      "P_BMac      15.124471   128.565127\n"
     ]
    }
   ],
   "source": [
    "print(model_fit.conf_int(alpha=0.05))"
   ]
  },
  {
   "cell_type": "markdown",
   "metadata": {},
   "source": [
    "This is an important part in regression analysis.\n",
    "\n",
    "The checking of confidence intervals give us a range of possible efects of each variable on the quantity.\n",
    "<br>For example, the price coefficient was estimated at `-213.4219`. \n",
    "<br>Nonetheless, as an old master used to say, if you want 95% confidence in the shot, you need to consider `-241.649087` as the lower limit and `-185.194716` as the upper limit.\n",
    "\n",
    "This must be considered in all estimated .\n",
    "However, for the sake of simplicity (and didactic), we will continue without applying confidence intervals. "
   ]
  },
  {
   "cell_type": "markdown",
   "metadata": {},
   "source": [
    "---\n",
    "### Some Analysis"
   ]
  },
  {
   "cell_type": "markdown",
   "metadata": {},
   "source": [
    "#### Quantities"
   ]
  },
  {
   "cell_type": "markdown",
   "metadata": {},
   "source": [
    "The manager decides to calculate the estimated demand elasticities, using the value of the varibles that typify the market.\n",
    "<br> These values, _for her_, are the **average values of each variable**. We'll call them *variable \"bar\"*.\n",
    "\n",
    "At this \"typical\" point on the estimated demand curve, we can determine the quantity of pizza demanded.\n",
    "\n",
    "$$ \\hat{Q} = \\hat{a} + \\hat{b}\\bar{P} + \\hat{c}\\bar{M} + \\hat{d}\\bar{P}_{Al} + \\hat{e}\\bar{P}_{BMac} $$"
   ]
  },
  {
   "cell_type": "markdown",
   "metadata": {},
   "source": [
    "For this, we use the `.predict()` method.\n",
    "\n",
    "For the inputs, we use the mean of the variables. Take a look!"
   ]
  },
  {
   "cell_type": "code",
   "execution_count": 5,
   "metadata": {},
   "outputs": [
    {
     "name": "stdout",
     "output_type": "stream",
     "text": [
      "Observation       12.500000\n",
      "Q               2784.666667\n",
      "P                  9.046250\n",
      "M              26613.208333\n",
      "P_Al              10.118750\n",
      "P_BMac             1.145833\n",
      "dtype: float64\n"
     ]
    }
   ],
   "source": [
    "inputs = data_market.mean()\n",
    "print(inputs)"
   ]
  },
  {
   "cell_type": "code",
   "execution_count": 6,
   "metadata": {},
   "outputs": [
    {
     "name": "stdout",
     "output_type": "stream",
     "text": [
      "Q_hat =  2784.66666666077\n",
      "At these values, the quantity of demanded pizza is, approximatelly, 2785.\n"
     ]
    }
   ],
   "source": [
    "# Estimated average quantity\n",
    "Q_hat =  model_fit.predict(data_market.mean())[0]\n",
    "print('Q_hat = ',Q_hat)\n",
    "print('At these values, the quantity of demanded pizza is, approximatelly, {:.0f}.'.format(Q_hat))"
   ]
  },
  {
   "cell_type": "markdown",
   "metadata": {},
   "source": [
    "#### Elasticities"
   ]
  },
  {
   "cell_type": "markdown",
   "metadata": {},
   "source": [
    "Now, let's estimate the elasticities as follows:\n",
    "\n",
    "$$ \\hat{E} = \\hat{b}(\\bar{P}/\\hat{Q}) $$\n",
    "\n",
    "$$ \\hat{E}_M = \\hat{c}(\\bar{M}/\\hat{Q}) $$\n",
    "\n",
    "$$ \\hat{E}_{XAl} = \\hat{d}(\\bar{P}_{Al}/\\hat{Q}) $$\n",
    "\n",
    "$$ \\hat{E}_{XBMac} = \\hat{e}(\\bar{P}_{BMac}/\\hat{Q}) $$"
   ]
  },
  {
   "cell_type": "markdown",
   "metadata": {},
   "source": [
    "Where,\n",
    "\n",
    "$\\hat{E} = $ Price elasticity of demand\n",
    "\n",
    "$\\hat{E}_M = $ Income elasticity\n",
    "\n",
    "$\\hat{E}_{XAl} = $ Estimated cross-price elasticity between Al's Pizza price and Checkers' Pizza quantity\n",
    "\n",
    "$\\hat{E}_{XBMac} = $ Estimated cross-price elasticity between Big Mac's price and Checkers' Pizza quantity"
   ]
  },
  {
   "cell_type": "code",
   "execution_count": 7,
   "metadata": {},
   "outputs": [
    {
     "name": "stdout",
     "output_type": "stream",
     "text": [
      "E =  -0.6933209981256101 \n",
      "E_M =  0.8705356509822103 \n",
      "E_XAl =  0.36810807211162117 \n",
      "E_XBMac =  0.029562664219400972\n"
     ]
    }
   ],
   "source": [
    "# Coefficients\n",
    "fit = model_fit.params.loc\n",
    "a_hat = fit['Intercept'] \n",
    "b_hat = fit['P']\n",
    "c_hat = fit['M']\n",
    "d_hat = fit['P_Al']\n",
    "e_hat = fit['P_BMac']\n",
    "# Average value of variables\n",
    "mean = data_market.describe().loc['mean'].loc\n",
    "P_bar = mean['P']\n",
    "M_bar = mean['M']\n",
    "P_Al_bar = mean['P_Al']\n",
    "P_BMac_bar = mean['P_BMac']\n",
    "\n",
    "# Elasticities\n",
    "E = b_hat*(P_bar/Q_hat)\n",
    "E_M = c_hat*(M_bar/Q_hat)\n",
    "E_XAl = d_hat*(P_Al_bar/Q_hat)\n",
    "E_XBMac = e_hat*(P_BMac_bar/Q_hat)\n",
    "\n",
    "print('E = ',E,\n",
    "      '\\nE_M = ',E_M,\n",
    "      '\\nE_XAl = ',E_XAl,\n",
    "      '\\nE_XBMac = ',E_XBMac)"
   ]
  },
  {
   "cell_type": "markdown",
   "metadata": {},
   "source": [
    "The results tell us something interesting:\n",
    "\n",
    "- At that price, the <font color='blue'>_**demand is inelastic**_</font>. In other words, if the price varies, the percentage change in demand will be smaller than that in price.\n",
    "\n",
    "- A 10% increase in average household income will cause sales to rise by 8.71% - pizzas are a <font color='blue'>_**normal good**_</font> here.\n",
    "\n",
    "- If Al's Pizza raises its pizza price in 10%, sales of Checkers' Pizza will increase by 3.68%.\n",
    "\n",
    "- The effect of Big Mac's price in sales of Checkers' Pizza is quite small: if Big Mac's price decrease by 10%, the sales of Checkers' Pizza decrease by 0.29%."
   ]
  },
  {
   "cell_type": "markdown",
   "metadata": {},
   "source": [
    "---\n",
    "### Final considerations"
   ]
  },
  {
   "cell_type": "markdown",
   "metadata": {},
   "source": [
    "It is possible apply this quantity and elasticity analysis in different points along the demand curve.\n",
    "\n",
    "It is also important to remember that this is an estimate of demand for a single price-setting firm, which is considerably simpler than estimating industry demand.\n",
    "\n",
    "Furthermore, there are some precautions that are necessary when using this method and its estimates, such as the correct specification of the model and considerations about confidence intervals.\n",
    "\n",
    "Of course, in the regression literature, there are many other interesting aspects of these methods and other relevant points about the care required when using them.\n",
    "\n",
    "I hope it help you!"
   ]
  }
 ],
 "metadata": {
  "kernelspec": {
   "display_name": "Python 3",
   "language": "python",
   "name": "python3"
  },
  "language_info": {
   "codemirror_mode": {
    "name": "ipython",
    "version": 3
   },
   "file_extension": ".py",
   "mimetype": "text/x-python",
   "name": "python",
   "nbconvert_exporter": "python",
   "pygments_lexer": "ipython3",
   "version": "3.11.2"
  }
 },
 "nbformat": 4,
 "nbformat_minor": 2
}
