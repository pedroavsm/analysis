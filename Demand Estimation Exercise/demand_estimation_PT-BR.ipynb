{
 "cells": [
  {
   "cell_type": "markdown",
   "metadata": {},
   "source": [
    "# **Exercício de Estimação de Demanda**"
   ]
  },
  {
   "cell_type": "markdown",
   "metadata": {},
   "source": [
    "### Apresentação"
   ]
  },
  {
   "cell_type": "markdown",
   "metadata": {},
   "source": [
    "Esse exemplo é baseado na 12ª edição do livro **Managerial Economics - Foundations of Business Analysis and Strategy** de Thomas e Maurice (2016).\n",
    "\n",
    "Os dados utilizados estão no diretório, no arquivo `Data for Checckers Pizza.xlsx`.\n",
    "\n",
    "Nesse exercício, a pizzaria Chechers Pizza quer estabelecer seu preço. Para isso, é muito útil estimar a demanda de pizza da Checkers Pizza. \n",
    "<br>A gerente usa a seguinte especificação linear para estimar sua demanda usando 24 observações mensais que ela coletou:"
   ]
  },
  {
   "cell_type": "markdown",
   "metadata": {},
   "source": [
    "---\n",
    "### Modelo"
   ]
  },
  {
   "cell_type": "markdown",
   "metadata": {},
   "source": [
    "$$ \n",
    "Q = a + bP + cM + dP_{Al} + eP_{BMac} \n",
    "$$\n",
    "\n",
    "Where\n",
    "\n",
    "$Q =$ quantidade de pizzas vendidas pela Checkers Pizza\n",
    "\n",
    "$P = $ Preço da pizza na Checkers Pizza\n",
    "\n",
    "$M = $ renda média anual dos consumidores em Westbury\n",
    "\n",
    "$P_{Al} = $ preço da pizza no Al's Pizza Oven (concorrente)\n",
    "\n",
    "$P_{BMac} = $ preço do Big Mac no McDonald's"
   ]
  },
  {
   "cell_type": "code",
   "execution_count": 1,
   "metadata": {},
   "outputs": [],
   "source": [
    "import pandas as pd\n",
    "from statsmodels.formula.api import ols"
   ]
  },
  {
   "cell_type": "markdown",
   "metadata": {},
   "source": [
    "#### Dados"
   ]
  },
  {
   "cell_type": "code",
   "execution_count": 2,
   "metadata": {},
   "outputs": [
    {
     "data": {
      "text/html": [
       "<div>\n",
       "<style scoped>\n",
       "    .dataframe tbody tr th:only-of-type {\n",
       "        vertical-align: middle;\n",
       "    }\n",
       "\n",
       "    .dataframe tbody tr th {\n",
       "        vertical-align: top;\n",
       "    }\n",
       "\n",
       "    .dataframe thead th {\n",
       "        text-align: right;\n",
       "    }\n",
       "</style>\n",
       "<table border=\"1\" class=\"dataframe\">\n",
       "  <thead>\n",
       "    <tr style=\"text-align: right;\">\n",
       "      <th></th>\n",
       "      <th>Observation</th>\n",
       "      <th>Q</th>\n",
       "      <th>P</th>\n",
       "      <th>M</th>\n",
       "      <th>P_Al</th>\n",
       "      <th>P_BMac</th>\n",
       "    </tr>\n",
       "  </thead>\n",
       "  <tbody>\n",
       "    <tr>\n",
       "      <th>0</th>\n",
       "      <td>1</td>\n",
       "      <td>2659</td>\n",
       "      <td>8.65</td>\n",
       "      <td>25500</td>\n",
       "      <td>10.55</td>\n",
       "      <td>1.25</td>\n",
       "    </tr>\n",
       "    <tr>\n",
       "      <th>1</th>\n",
       "      <td>2</td>\n",
       "      <td>2870</td>\n",
       "      <td>8.65</td>\n",
       "      <td>25600</td>\n",
       "      <td>10.45</td>\n",
       "      <td>1.35</td>\n",
       "    </tr>\n",
       "    <tr>\n",
       "      <th>2</th>\n",
       "      <td>3</td>\n",
       "      <td>2875</td>\n",
       "      <td>8.65</td>\n",
       "      <td>25700</td>\n",
       "      <td>10.35</td>\n",
       "      <td>1.55</td>\n",
       "    </tr>\n",
       "    <tr>\n",
       "      <th>3</th>\n",
       "      <td>4</td>\n",
       "      <td>2849</td>\n",
       "      <td>8.65</td>\n",
       "      <td>25970</td>\n",
       "      <td>10.30</td>\n",
       "      <td>1.05</td>\n",
       "    </tr>\n",
       "    <tr>\n",
       "      <th>4</th>\n",
       "      <td>5</td>\n",
       "      <td>2842</td>\n",
       "      <td>8.65</td>\n",
       "      <td>25970</td>\n",
       "      <td>10.30</td>\n",
       "      <td>0.95</td>\n",
       "    </tr>\n",
       "  </tbody>\n",
       "</table>\n",
       "</div>"
      ],
      "text/plain": [
       "   Observation     Q     P      M   P_Al  P_BMac\n",
       "0            1  2659  8.65  25500  10.55    1.25\n",
       "1            2  2870  8.65  25600  10.45    1.35\n",
       "2            3  2875  8.65  25700  10.35    1.55\n",
       "3            4  2849  8.65  25970  10.30    1.05\n",
       "4            5  2842  8.65  25970  10.30    0.95"
      ]
     },
     "execution_count": 2,
     "metadata": {},
     "output_type": "execute_result"
    }
   ],
   "source": [
    "data_market = pd.read_excel('Data for Checkers Pizza.xlsx')\n",
    "data_market.head()"
   ]
  },
  {
   "cell_type": "markdown",
   "metadata": {},
   "source": [
    "#### Regressão"
   ]
  },
  {
   "cell_type": "markdown",
   "metadata": {},
   "source": [
    "Nesse caso, nós podemos suprimir a especificação da variável `family`, porque o _defaut_ `Gaussian`."
   ]
  },
  {
   "cell_type": "code",
   "execution_count": 3,
   "metadata": {},
   "outputs": [
    {
     "name": "stdout",
     "output_type": "stream",
     "text": [
      "                            OLS Regression Results                            \n",
      "==============================================================================\n",
      "Dep. Variable:                      Q   R-squared:                       0.955\n",
      "Model:                            OLS   Adj. R-squared:                  0.946\n",
      "Method:                 Least Squares   F-statistic:                     101.9\n",
      "Date:                Thu, 14 Dec 2023   Prob (F-statistic):           1.47e-12\n",
      "Time:                        16:44:27   Log-Likelihood:                -121.19\n",
      "No. Observations:                  24   AIC:                             252.4\n",
      "Df Residuals:                      19   BIC:                             258.3\n",
      "Df Model:                           4                                         \n",
      "Covariance Type:            nonrobust                                         \n",
      "==============================================================================\n",
      "                 coef    std err          t      P>|t|      [0.025      0.975]\n",
      "------------------------------------------------------------------------------\n",
      "Intercept   1183.8025    506.298      2.338      0.030     124.109    2243.496\n",
      "P           -213.4219     13.486    -15.825      0.000    -241.649    -185.195\n",
      "M              0.0911      0.012      7.340      0.000       0.065       0.117\n",
      "P_Al         101.3029     38.748      2.614      0.017      20.203     182.403\n",
      "P_BMac        71.8448     27.100      2.651      0.016      15.124     128.565\n",
      "==============================================================================\n",
      "Omnibus:                       40.982   Durbin-Watson:                   1.369\n",
      "Prob(Omnibus):                  0.000   Jarque-Bera (JB):              149.369\n",
      "Skew:                          -3.007   Prob(JB):                     3.67e-33\n",
      "Kurtosis:                      13.639   Cond. No.                     1.56e+06\n",
      "==============================================================================\n",
      "\n",
      "Notes:\n",
      "[1] Standard Errors assume that the covariance matrix of the errors is correctly specified.\n",
      "[2] The condition number is large, 1.56e+06. This might indicate that there are\n",
      "strong multicollinearity or other numerical problems.\n"
     ]
    }
   ],
   "source": [
    "model_formula = 'Q ~ P + M + P_Al + P_BMac'\n",
    "\n",
    "model_fit = ols(formula=model_formula,\n",
    "                data=data_market).fit()\n",
    "\n",
    "print(model_fit.summary())"
   ]
  },
  {
   "cell_type": "markdown",
   "metadata": {},
   "source": [
    "Intervalos de confiança"
   ]
  },
  {
   "cell_type": "code",
   "execution_count": 4,
   "metadata": {},
   "outputs": [
    {
     "name": "stdout",
     "output_type": "stream",
     "text": [
      "                    0            1\n",
      "Intercept  124.108581  2243.496392\n",
      "P         -241.649087  -185.194716\n",
      "M            0.065114     0.117063\n",
      "P_Al        20.202862   182.402851\n",
      "P_BMac      15.124471   128.565127\n"
     ]
    }
   ],
   "source": [
    "print(model_fit.conf_int(alpha=0.05))"
   ]
  },
  {
   "cell_type": "markdown",
   "metadata": {},
   "source": [
    "Essa é uma parte muito importante na análise de regressão. \n",
    "\n",
    "A verificação dos intervalos de confiança nos dá um _range_ de efeitos possíveis de cada uma das variáveis explicativas.\n",
    "<br>Por exemplo, o coeficiente do preço foi estimado em `-213.4219`. \n",
    "<br>Entretanto, como dizia um saudoso mestre, se você quiser 95% de acertar seu _\"chute\"_, precisa considerar `-241.649087` como limite inferior e `-185.194716` como limite superior.\n",
    "\n",
    "Isso deve ser considerado em todas as variáveis estimadas.\n",
    "Contudo, para fins de simplicidade (didática), seguiremos para as análises sem aplicar os intervalos de confiança. "
   ]
  },
  {
   "cell_type": "markdown",
   "metadata": {},
   "source": [
    "---\n",
    "### Algumas análises"
   ]
  },
  {
   "cell_type": "markdown",
   "metadata": {},
   "source": [
    "#### Quantidades"
   ]
  },
  {
   "cell_type": "markdown",
   "metadata": {},
   "source": [
    "A gerente decide calcular as elasticidades estimadas da demanda, usando o valor das variáveis que tipificam o mercado.\n",
    "<br> Esses valores, _para ela_, são os **valores médios de cada variável**. Aqui sinaliza-se esse valores com uma *barra*.\n",
    "\n",
    "No ponto \"típico\" da demanda, podemos determinar a quantidade demanda.\n",
    "\n",
    "$$ \\hat{Q} = \\hat{a} + \\hat{b}\\bar{P} + \\hat{c}\\bar{M} + \\hat{d}\\bar{P}_{Al} + \\hat{e}\\bar{P}_{BMac} $$"
   ]
  },
  {
   "cell_type": "markdown",
   "metadata": {},
   "source": [
    "Para isso, usamos o método `.predict()`.\n",
    "\n",
    "Como _inputs_, usamos a média das variáveis direto do DataFrame. Dê uma olhada!"
   ]
  },
  {
   "cell_type": "code",
   "execution_count": 5,
   "metadata": {},
   "outputs": [
    {
     "name": "stdout",
     "output_type": "stream",
     "text": [
      "Observation       12.500000\n",
      "Q               2784.666667\n",
      "P                  9.046250\n",
      "M              26613.208333\n",
      "P_Al              10.118750\n",
      "P_BMac             1.145833\n",
      "dtype: float64\n"
     ]
    }
   ],
   "source": [
    "inputs = data_market.mean()\n",
    "print(inputs)"
   ]
  },
  {
   "cell_type": "code",
   "execution_count": 6,
   "metadata": {},
   "outputs": [
    {
     "name": "stdout",
     "output_type": "stream",
     "text": [
      "Q_hat =  2784.66666666077\n",
      "Para esses valores, a quantidade demandada para o Checker Pizza é, aproximadamente, 2785.\n"
     ]
    }
   ],
   "source": [
    "# Estimated average quantity\n",
    "Q_hat =  model_fit.predict(data_market.mean())[0]\n",
    "print('Q_hat = ',Q_hat)\n",
    "print('Para esses valores, a quantidade demandada para o Checker Pizza é, aproximadamente, {:.0f}.'.format(Q_hat))"
   ]
  },
  {
   "cell_type": "markdown",
   "metadata": {},
   "source": [
    "#### Elasticidades"
   ]
  },
  {
   "cell_type": "markdown",
   "metadata": {},
   "source": [
    "Agora, estimamos as elasticidades como segue:\n",
    "\n",
    "$$ \\hat{E} = \\hat{b}(\\bar{P}/\\hat{Q}) $$\n",
    "\n",
    "$$ \\hat{E}_M = \\hat{c}(\\bar{M}/\\hat{Q}) $$\n",
    "\n",
    "$$ \\hat{E}_{XAl} = \\hat{d}(\\bar{P}_{Al}/\\hat{Q}) $$\n",
    "\n",
    "$$ \\hat{E}_{XBMac} = \\hat{e}(\\bar{P}_{BMac}/\\hat{Q}) $$"
   ]
  },
  {
   "cell_type": "markdown",
   "metadata": {},
   "source": [
    "Where,\n",
    "\n",
    "$\\hat{E} = $ elasticidade-preço da demanda\n",
    "\n",
    "$\\hat{E}_M = $ Elasticidade da renda\n",
    "\n",
    "$\\hat{E}_{XAl} = $ Elasticidade-preço cruzada entre o preço do Al e quantidade do Checkers\n",
    "\n",
    "$\\hat{E}_{XBMac} = $ Elasticidade-preço cruzada entre o preço do Big Mac's e a quantidade do Checkers"
   ]
  },
  {
   "cell_type": "code",
   "execution_count": 7,
   "metadata": {},
   "outputs": [
    {
     "name": "stdout",
     "output_type": "stream",
     "text": [
      "E =  -0.6933209981256101 \n",
      "E_M =  0.8705356509822103 \n",
      "E_XAl =  0.36810807211162117 \n",
      "E_XBMac =  0.029562664219400972\n"
     ]
    }
   ],
   "source": [
    "# Coefficients\n",
    "fit = model_fit.params.loc\n",
    "a_hat = fit['Intercept'] \n",
    "b_hat = fit['P']\n",
    "c_hat = fit['M']\n",
    "d_hat = fit['P_Al']\n",
    "e_hat = fit['P_BMac']\n",
    "# Average value of variables\n",
    "mean = data_market.describe().loc['mean'].loc\n",
    "P_bar = mean['P']\n",
    "M_bar = mean['M']\n",
    "P_Al_bar = mean['P_Al']\n",
    "P_BMac_bar = mean['P_BMac']\n",
    "\n",
    "# Elasticities\n",
    "E = b_hat*(P_bar/Q_hat)\n",
    "E_M = c_hat*(M_bar/Q_hat)\n",
    "E_XAl = d_hat*(P_Al_bar/Q_hat)\n",
    "E_XBMac = e_hat*(P_BMac_bar/Q_hat)\n",
    "\n",
    "print('E = ',E,\n",
    "      '\\nE_M = ',E_M,\n",
    "      '\\nE_XAl = ',E_XAl,\n",
    "      '\\nE_XBMac = ',E_XBMac)"
   ]
  },
  {
   "cell_type": "markdown",
   "metadata": {},
   "source": [
    "Os resultados nos dizem algo interessante:\n",
    "\n",
    "- A esse preço, a <font color='blue'>_**demanda é inelástica**_</font>. Em outras palavras, se o preço varia, a mudança percentual na demanda será menor que a observada no preço.\n",
    "\n",
    "- Um aumento de 10% na renda média dos consumidores causa uma elevação da vendas em 8.71% - as pizzas são um <font color='blue'>_**bem normal**_</font>.\n",
    "\n",
    "- Se a preço da Pizza do Al sobe em 10%, as vendas do Checkers' Pizza aumentam em 3.68%.\n",
    "\n",
    "- O efeito do preço do Big Mac nas vendas do Checkers' Pizza é bem pequeno: se o preço do Big Mac cai em 10%, as vendas do Checkers' Pizza caem em 0.29%."
   ]
  },
  {
   "cell_type": "markdown",
   "metadata": {},
   "source": [
    "---\n",
    "### Considerações finais"
   ]
  },
  {
   "cell_type": "markdown",
   "metadata": {},
   "source": [
    "É possível aplicar essa análise de quantidade e elasticidade em diferentes pontos ao longo da curva de demanda.\n",
    "\n",
    "Também é importante lembrar que este é um exercício de estimação para a demanda de uma firma tomadora de preços, que é consideravelmente mais simples que estimar a demanda de toda uma indústria.\n",
    "\n",
    "Além disso, existem algumas precauções necessárias quando estes métodos de estimação, como atenção à correta especificação do modelo e as consideraçõoes sobre os intervalos de confiação.\n",
    "\n",
    "Of course, in the regression literature, there are many other interesting aspects of these methods and other relevant points about the care required when using them.\n",
    "\n",
    "I hope it help you!"
   ]
  }
 ],
 "metadata": {
  "kernelspec": {
   "display_name": "Python 3",
   "language": "python",
   "name": "python3"
  },
  "language_info": {
   "codemirror_mode": {
    "name": "ipython",
    "version": 3
   },
   "file_extension": ".py",
   "mimetype": "text/x-python",
   "name": "python",
   "nbconvert_exporter": "python",
   "pygments_lexer": "ipython3",
   "version": "3.11.2"
  }
 },
 "nbformat": 4,
 "nbformat_minor": 2
}
